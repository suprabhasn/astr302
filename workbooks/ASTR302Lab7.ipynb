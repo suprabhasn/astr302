{
 "cells": [
  {
   "cell_type": "markdown",
   "metadata": {
    "tags": []
   },
   "source": [
    "# ASTR302 Lab 7: Astrometry and Calibrated Photometry"
   ]
  },
  {
   "cell_type": "markdown",
   "metadata": {},
   "source": [
    "In this Lab you will determine the right ascension and declination of your sources and calibrate the photometry"
   ]
  },
  {
   "cell_type": "markdown",
   "metadata": {},
   "source": [
    "## Where are we?"
   ]
  },
  {
   "cell_type": "markdown",
   "metadata": {},
   "source": [
    "You probably pointed the telescope at this field, or at least someone did. So you would think we would know the coordinates. However, in general the telescope pointing is not succiently precise to serve our purposes. We want to do better. "
   ]
  },
  {
   "cell_type": "markdown",
   "metadata": {},
   "source": [
    "Before we start, lets import the packages you will be needing for this Lab. You'll be using the astrometry solver which is based on the astronomy.net algorithm. "
   ]
  },
  {
   "cell_type": "code",
   "execution_count": 1,
   "metadata": {
    "tags": []
   },
   "outputs": [
    {
     "name": "stdout",
     "output_type": "stream",
     "text": [
      "Requirement already satisfied: pip in /usr/local/python/3.12.1/lib/python3.12/site-packages (25.0.1)\n",
      "Requirement already satisfied: astrometry in /usr/local/python/3.12.1/lib/python3.12/site-packages (4.3.0)\n",
      "Requirement already satisfied: requests>=1.26 in /home/codespace/.local/lib/python3.12/site-packages (from astrometry) (2.32.3)\n",
      "Requirement already satisfied: charset-normalizer<4,>=2 in /home/codespace/.local/lib/python3.12/site-packages (from requests>=1.26->astrometry) (3.4.1)\n",
      "Requirement already satisfied: idna<4,>=2.5 in /home/codespace/.local/lib/python3.12/site-packages (from requests>=1.26->astrometry) (3.10)\n",
      "Requirement already satisfied: urllib3<3,>=1.21.1 in /home/codespace/.local/lib/python3.12/site-packages (from requests>=1.26->astrometry) (2.3.0)\n",
      "Requirement already satisfied: certifi>=2017.4.17 in /home/codespace/.local/lib/python3.12/site-packages (from requests>=1.26->astrometry) (2025.1.31)\n"
     ]
    }
   ],
   "source": [
    "#lets install the astrometry package (from astronomy.net)\n",
    "!pip install --upgrade pip\n",
    "!pip install astrometry\n",
    "\n",
    "import matplotlib.pyplot as plt\n",
    "import csv\n",
    "import astrometry\n",
    "import pandas as pd\n",
    "import astropy.units as u\n",
    "import numpy as np\n",
    "\n",
    "import astropy as ap\n",
    "from astropy.wcs import WCS\n",
    "from astropy.io import fits\n",
    "\n",
    "# the 'scales' in the following need to be chosen match to the estimated field-of-view (see https://pypi.org/project/astrometry/)\n",
    "# these scales are the ones for the image you are working with\n",
    "\n",
    "solver = astrometry.Solver(\n",
    "    astrometry.series_5200.index_files(\n",
    "        cache_directory=\"astrometry_cache\",\n",
    "        scales={1,3},\n",
    "    )\n",
    ")"
   ]
  },
  {
   "cell_type": "markdown",
   "metadata": {},
   "source": [
    "This next cell just reads in your photometry file from before and gets the list of stars that will be used by the astrometry solver."
   ]
  },
  {
   "cell_type": "code",
   "execution_count": 2,
   "metadata": {
    "tags": []
   },
   "outputs": [
    {
     "name": "stdout",
     "output_type": "stream",
     "text": [
      "[('1063.1711772657966', '70.73517360537362'), ('1286.0248138879692', '169.83559205702886'), ('1926.7490458557636', '183.5113186766256'), ('626.1909411826289', '202.5953274580391'), ('1404.2273464072791', '234.50698987821053'), ('1006.455431480202', '347.68055647463615'), ('1524.1336981624847', '373.9334142192574'), ('1730.7012719317656', '397.1906521187585'), ('1869.5280562216224', '471.6751010512597'), ('1635.1768287624216', '503.40350333035104'), ('708.9461636337188', '615.4714155067529'), ('1551.03423242148', '660.4787145055359'), ('449.6863412445824', '674.42803880774'), ('323.34835352149804', '799.9832827901635'), ('1442.8815621824606', '824.9689380393313'), ('1267.112511232739', '1004.467209696376'), ('918.3504489506342', '1166.8567280355878'), ('950.0322302558076', '1285.1413598739312'), ('1874.9604858074747', '1319.8804361187058'), ('236.2849419711685', '1346.9922536583138'), ('1193.938520407029', '1372.0765798943223')]\n"
     ]
    }
   ],
   "source": [
    "# read the CSV file and make a list of coordinate pairs for astronometry solver\n",
    "import re\n",
    "catalog = pd.read_csv(r'/workspaces/astr302/new_photometry.csv')\n",
    "\n",
    "unit = \"pix\"\n",
    "x = [str(sub).replace(unit, \"\").strip() for sub in catalog['xcenter']]\n",
    "y = [str(sub).replace(unit, \"\").strip() for sub in catalog['ycenter']]\n",
    "\n",
    "stars = [(x[i],y[i]) for i in range(0,len(x))]\n",
    "print(stars)"
   ]
  },
  {
   "cell_type": "code",
   "execution_count": 3,
   "metadata": {},
   "outputs": [
    {
     "name": "stdout",
     "output_type": "stream",
     "text": [
      "[(np.float64(1063.1711772657966), np.float64(70.73517360537362)), (np.float64(1286.0248138879692), np.float64(169.83559205702886)), (np.float64(1926.7490458557636), np.float64(183.5113186766256)), (np.float64(626.1909411826289), np.float64(202.5953274580391)), (np.float64(1404.2273464072791), np.float64(234.50698987821053)), (np.float64(1006.455431480202), np.float64(347.68055647463615)), (np.float64(1524.1336981624847), np.float64(373.9334142192574)), (np.float64(1730.7012719317656), np.float64(397.1906521187585)), (np.float64(1869.5280562216224), np.float64(471.6751010512597)), (np.float64(1635.1768287624216), np.float64(503.40350333035104)), (np.float64(708.9461636337188), np.float64(615.4714155067529)), (np.float64(1551.03423242148), np.float64(660.4787145055359)), (np.float64(449.6863412445824), np.float64(674.42803880774)), (np.float64(323.34835352149804), np.float64(799.9832827901635)), (np.float64(1442.8815621824606), np.float64(824.9689380393313)), (np.float64(1267.112511232739), np.float64(1004.467209696376)), (np.float64(918.3504489506342), np.float64(1166.8567280355878)), (np.float64(950.0322302558076), np.float64(1285.1413598739312)), (np.float64(1874.9604858074747), np.float64(1319.8804361187058)), (np.float64(236.2849419711685), np.float64(1346.9922536583138)), (np.float64(1193.938520407029), np.float64(1372.0765798943223))]\n"
     ]
    }
   ],
   "source": [
    "catalog = pd.read_csv(r'/workspaces/astr302/new_photometry.csv')\n",
    "\n",
    "# Function to clean and convert to float\n",
    "def clean_and_convert(value):\n",
    "    if isinstance(value, str):\n",
    "        value = re.sub(r\"[^\\d\\.]\", \"\", value)  # Remove non-numeric characters except '.'\n",
    "    try:\n",
    "        return float(value)\n",
    "    except ValueError:\n",
    "        return None  # Handle bad values gracefully\n",
    "\n",
    "# Apply function to xcenter and ycenter\n",
    "x = catalog['xcenter'].apply(clean_and_convert)\n",
    "y = catalog['ycenter'].apply(clean_and_convert)\n",
    "\n",
    "# Remove any None values (invalid entries)\n",
    "stars = [(x[i], y[i]) for i in range(len(x)) if x[i] is not None and y[i] is not None]\n",
    "\n",
    "print(stars)"
   ]
  },
  {
   "cell_type": "markdown",
   "metadata": {},
   "source": [
    "Now on to the actual solver. At the end we print out the header coordinates and the solved coordinates for comparison."
   ]
  },
  {
   "cell_type": "code",
   "execution_count": null,
   "metadata": {
    "tags": []
   },
   "outputs": [
    {
     "name": "stderr",
     "output_type": "stream",
     "text": [
      "INFO:root:solve 1: start\n",
      "INFO:root:solve 1: slice=[0, 21) (1 / 1), index=\"5200/index-5201-17.fits\" (1 / 2)\n"
     ]
    },
    {
     "name": "stdout",
     "output_type": "stream",
     "text": [
      "[(np.float64(1063.1711772657966), np.float64(70.73517360537362)), (np.float64(1286.0248138879692), np.float64(169.83559205702886)), (np.float64(1926.7490458557636), np.float64(183.5113186766256)), (np.float64(626.1909411826289), np.float64(202.5953274580391)), (np.float64(1404.2273464072791), np.float64(234.50698987821053)), (np.float64(1006.455431480202), np.float64(347.68055647463615)), (np.float64(1524.1336981624847), np.float64(373.9334142192574)), (np.float64(1730.7012719317656), np.float64(397.1906521187585)), (np.float64(1869.5280562216224), np.float64(471.6751010512597)), (np.float64(1635.1768287624216), np.float64(503.40350333035104)), (np.float64(708.9461636337188), np.float64(615.4714155067529)), (np.float64(1551.03423242148), np.float64(660.4787145055359)), (np.float64(449.6863412445824), np.float64(674.42803880774)), (np.float64(323.34835352149804), np.float64(799.9832827901635)), (np.float64(1442.8815621824606), np.float64(824.9689380393313)), (np.float64(1267.112511232739), np.float64(1004.467209696376)), (np.float64(918.3504489506342), np.float64(1166.8567280355878)), (np.float64(950.0322302558076), np.float64(1285.1413598739312)), (np.float64(1874.9604858074747), np.float64(1319.8804361187058)), (np.float64(236.2849419711685), np.float64(1346.9922536583138)), (np.float64(1193.938520407029), np.float64(1372.0765798943223))]\n"
     ]
    },
    {
     "name": "stderr",
     "output_type": "stream",
     "text": [
      "INFO:root:solve 1: slice=[0, 21) (1 / 1), index=\"5200/index-5203-17.fits\" (2 / 2)\n"
     ]
    }
   ],
   "source": [
    "filename = r'/workspaces/astr302/save.fits'\n",
    "hdu = fits.open(filename)[0]\n",
    "image = hdu.data\n",
    "hdr = hdu.header\n",
    "\n",
    "import astrometry\n",
    "import logging\n",
    "\n",
    "logging.getLogger().setLevel(logging.INFO)\n",
    "\n",
    "print(stars)\n",
    "# start with values close to the what is given in the header\n",
    "solution = solver.solve(\n",
    "    stars=stars,\n",
    "    size_hint=None,\n",
    "    position_hint=astrometry.PositionHint(\n",
    "        ra_deg=346.2,\n",
    "        dec_deg=-8.68,\n",
    "        radius_deg=1.0),\n",
    "    solution_parameters=astrometry.SolutionParameters(),\n",
    ")    \n",
    "\n",
    "# defines new wcs reference frame using solved for values\n",
    "\n"
   ]
  },
  {
   "cell_type": "code",
   "execution_count": 6,
   "metadata": {},
   "outputs": [],
   "source": [
    "if solution.has_match():\n",
    "    wcs = solution.best_match().astropy_wcs()\n",
    "    \n",
    "# it there is a good solution check out correspondence with previous values\n",
    "    print('The header RA is ',hdr['RA-D'],'and the solved RA is ',solution.best_match().center_ra_deg)\n",
    "    print('The header Dec is ',hdr['DEC-D'],'and the solved Dec is ',solution.best_match().center_dec_deg)\n",
    "    print('The header plate scale is ',hdr['SCALE'],'and the solved plate scale is ',solution.best_match().scale_arcsec_per_pixel)"
   ]
  },
  {
   "cell_type": "markdown",
   "metadata": {},
   "source": [
    "Now we will display the image, with the new coordinates, and proceed to list the coordinates of your stars. The way we will calibrate the photometry is by comparing the instrumental magnitudes you have measured for your stars with the available Sloan Digital Sky Survey values available through the Legacy Viewer (https://www.legacysurvey.org/viewer/). To keep this relatively simple, we'll do this by hand. Note that the way the image is displayed here is flipped relative to how the Viewer shows the field. You will also need to adjust the vmin and vmax values to get the best image display."
   ]
  },
  {
   "cell_type": "code",
   "execution_count": 5,
   "metadata": {
    "tags": []
   },
   "outputs": [
    {
     "ename": "NameError",
     "evalue": "name 'wcs' is not defined",
     "output_type": "error",
     "traceback": [
      "\u001b[31m---------------------------------------------------------------------------\u001b[39m",
      "\u001b[31mNameError\u001b[39m                                 Traceback (most recent call last)",
      "\u001b[36mCell\u001b[39m\u001b[36m \u001b[39m\u001b[32mIn[5]\u001b[39m\u001b[32m, line 7\u001b[39m\n\u001b[32m      5\u001b[39m \u001b[38;5;66;03m# Create the plotting object with the WCS projection.\u001b[39;00m\n\u001b[32m      6\u001b[39m plt.figure(figsize = (\u001b[32m20\u001b[39m,\u001b[32m20\u001b[39m))\n\u001b[32m----> \u001b[39m\u001b[32m7\u001b[39m plt.subplot(projection=\u001b[43mwcs\u001b[49m)\n\u001b[32m      8\u001b[39m plt.imshow(image, vmin=mean-std, vmax=mean+std)\n\u001b[32m      9\u001b[39m plt.grid(color=\u001b[33m'\u001b[39m\u001b[33mwhite\u001b[39m\u001b[33m'\u001b[39m, ls=\u001b[33m'\u001b[39m\u001b[33msolid\u001b[39m\u001b[33m'\u001b[39m, alpha=\u001b[32m1\u001b[39m)\n",
      "\u001b[31mNameError\u001b[39m: name 'wcs' is not defined"
     ]
    },
    {
     "data": {
      "text/plain": [
       "<Figure size 2000x2000 with 0 Axes>"
      ]
     },
     "metadata": {},
     "output_type": "display_data"
    }
   ],
   "source": [
    "# define the image, open, and read the header information - use your reduced image from the previous workbook\n",
    "mean = np.mean(image)\n",
    "std = np.std(image)\n",
    "\n",
    "# Create the plotting object with the WCS projection.\n",
    "plt.figure(figsize = (20,20))\n",
    "plt.subplot(projection=wcs)\n",
    "plt.imshow(image, vmin=mean-std, vmax=mean+std)\n",
    "plt.grid(color='white', ls='solid', alpha=1)\n",
    "plt.xlabel('Right Ascension',fontsize=24)\n",
    "plt.ylabel('Declination',fontsize=24)"
   ]
  },
  {
   "cell_type": "code",
   "execution_count": null,
   "metadata": {
    "tags": []
   },
   "outputs": [
    {
     "ename": "NameError",
     "evalue": "name 'solution' is not defined",
     "output_type": "error",
     "traceback": [
      "\u001b[31m---------------------------------------------------------------------------\u001b[39m",
      "\u001b[31mNameError\u001b[39m                                 Traceback (most recent call last)",
      "\u001b[36mCell\u001b[39m\u001b[36m \u001b[39m\u001b[32mIn[1]\u001b[39m\u001b[32m, line 2\u001b[39m\n\u001b[32m      1\u001b[39m \u001b[38;5;66;03m# print out the coordinates of the stars that were used for the coordinate solution\u001b[39;00m\n\u001b[32m----> \u001b[39m\u001b[32m2\u001b[39m \u001b[38;5;28;01mif\u001b[39;00m \u001b[43msolution\u001b[49m.has_match():\n\u001b[32m      3\u001b[39m     \u001b[38;5;28;01mfor\u001b[39;00m star \u001b[38;5;129;01min\u001b[39;00m solution.best_match().stars:\n\u001b[32m      4\u001b[39m         \u001b[38;5;28mprint\u001b[39m(\u001b[33mf\u001b[39m\u001b[33m\"\u001b[39m\u001b[38;5;132;01m{\u001b[39;00mstar.ra_deg\u001b[38;5;132;01m}\u001b[39;00m\u001b[33m, \u001b[39m\u001b[38;5;132;01m{\u001b[39;00mstar.dec_deg\u001b[38;5;132;01m}\u001b[39;00m\u001b[33m:\u001b[39m\u001b[33m\"\u001b[39m)\n",
      "\u001b[31mNameError\u001b[39m: name 'solution' is not defined"
     ]
    }
   ],
   "source": [
    "# print out the coordinates of the stars that were used for the coordinate solution\n",
    "if solution.has_match():\n",
    "    for star in solution.best_match().stars:\n",
    "        print(f\"{star.ra_deg}, {star.dec_deg}:\")\n",
    "        \n",
    "if solution.has_match():\n",
    "    wcs = solution.best_match().astropy_wcs()\n",
    "    pixels = wcs.all_world2pix(\n",
    "        [[star.ra_deg, star.dec_deg] for star in solution.best_match().stars],\n",
    "        0,\n",
    "    )\n",
    "# pixels is a len(solution.best_match().stars) x 2 numpy array of float values    \n",
    "print(pixels)"
   ]
  },
  {
   "cell_type": "markdown",
   "metadata": {},
   "source": [
    "You have a choice here. You can just use the Legacy Viewer and the coordinates of these stars to get the SDSS magnitudes (use r band, but also keep the g band as we will want to look at the dependence of the calibration vs. color) to build up your photometric calibration or you can use astroquery (https://iopscience.iop.org/article/10.3847/1538-3881/aafc33) to get the magnitudes from the SIMBAD database. The latter will likely require much more effort, but will be more general if you want to make it so."
   ]
  },
  {
   "cell_type": "markdown",
   "metadata": {},
   "source": [
    "<div class=\"alert alert-info\"> Make a plot of instrumental magnitude vs. SDSS magnitude for these stars. Perform a linear fit to get the zero point (the offset) and check for linearity. </div>"
   ]
  },
  {
   "cell_type": "markdown",
   "metadata": {},
   "source": [
    "<div class=\"alert alert-block alert-success\">\n",
    "Answer:\n",
    "</div>"
   ]
  },
  {
   "cell_type": "markdown",
   "metadata": {},
   "source": [
    "<div class=\"alert alert-info\"> Now plot the offset from the fit for each star vs. color. Do you see a trend or just scatter. If there is a trend, describe the possible origin and how to address it in the calibration.</div>"
   ]
  },
  {
   "cell_type": "markdown",
   "metadata": {},
   "source": [
    "<div class=\"alert alert-block alert-success\">\n",
    "Answer:\n",
    "</div>"
   ]
  },
  {
   "cell_type": "markdown",
   "metadata": {},
   "source": [
    "## Conclusion: "
   ]
  },
  {
   "cell_type": "markdown",
   "metadata": {},
   "source": [
    " <div class=\"alert alert-info\">Save your notebook.  Append your LastNameFirstInitial to the filename and submit via D2L </div>"
   ]
  }
 ],
 "metadata": {
  "kernelspec": {
   "display_name": "Python 3",
   "language": "python",
   "name": "python3"
  },
  "language_info": {
   "codemirror_mode": {
    "name": "ipython",
    "version": 3
   },
   "file_extension": ".py",
   "mimetype": "text/x-python",
   "name": "python",
   "nbconvert_exporter": "python",
   "pygments_lexer": "ipython3",
   "version": "3.12.1"
  }
 },
 "nbformat": 4,
 "nbformat_minor": 4
}
